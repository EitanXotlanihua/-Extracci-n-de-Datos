{
  "nbformat": 4,
  "nbformat_minor": 0,
  "metadata": {
    "colab": {
      "provenance": [],
      "authorship_tag": "ABX9TyMyCg+Sfdpb/kCDJuYFkSKX",
      "include_colab_link": true
    },
    "kernelspec": {
      "name": "python3",
      "display_name": "Python 3"
    },
    "language_info": {
      "name": "python"
    }
  },
  "cells": [
    {
      "cell_type": "markdown",
      "metadata": {
        "id": "view-in-github",
        "colab_type": "text"
      },
      "source": [
        "<a href=\"https://colab.research.google.com/github/EitanXotlanihua/-Extracci-n-de-Datos/blob/main/Copia_1_Extracci%C3%B3n_de_Datos_(La%20correcta).ipynb\" target=\"_parent\"><img src=\"https://colab.research.google.com/assets/colab-badge.svg\" alt=\"Open In Colab\"/></a>"
      ]
    },
    {
      "cell_type": "code",
      "execution_count": null,
      "metadata": {
        "id": "USFTyIrgWtgE"
      },
      "outputs": [],
      "source": [
        "import pandas as pd\n",
        "import numpy as np\n",
        "import matplotlib.pyplot as plt\n",
        "import seaborn as sns"
      ]
    },
    {
      "cell_type": "code",
      "source": [
        "from google.colab import files\n",
        "files.upload()"
      ],
      "metadata": {
        "id": "WSxUTJjTdSL7"
      },
      "execution_count": null,
      "outputs": []
    },
    {
      "cell_type": "code",
      "source": [
        "df = pd.read_csv(\"CountryTable.csv\")\n",
        "df.head(5)"
      ],
      "metadata": {
        "id": "nn_eozYzd5d8"
      },
      "execution_count": null,
      "outputs": []
    },
    {
      "cell_type": "markdown",
      "source": [
        "**FILTROS BASICOS PARA VARIABLES CUALITATIVAS**"
      ],
      "metadata": {
        "id": "zR8CpSjUeoiD"
      }
    },
    {
      "cell_type": "code",
      "source": [
        "filtro1 = df[df[\"continent\"] == \"Asia\"]\n",
        "filtro1"
      ],
      "metadata": {
        "id": "T5KYRFiWewn8"
      },
      "execution_count": null,
      "outputs": []
    },
    {
      "cell_type": "code",
      "source": [
        "filtro2 = df.iloc[ [17, 43, 75] , :]\n",
        "filtro2"
      ],
      "metadata": {
        "id": "XVyzh_zSf8Ea"
      },
      "execution_count": null,
      "outputs": []
    },
    {
      "cell_type": "code",
      "source": [
        "#filtro3 = df.iloc[ : , 4:7]\n",
        "filtro3 = df.iloc[ : , [3,4,8]]\n",
        "filtro3"
      ],
      "metadata": {
        "id": "6eZJUj2MgH6w"
      },
      "execution_count": null,
      "outputs": []
    },
    {
      "cell_type": "code",
      "source": [
        "df = pd.read_csv(\"CountryTable.csv\", index_col=2)\n",
        "df"
      ],
      "metadata": {
        "id": "-Cq2Id5qgmAf"
      },
      "execution_count": null,
      "outputs": []
    },
    {
      "cell_type": "code",
      "source": [
        "filtro4 = df.loc[[\"Europe\",\"Asia\"], [\"population\"]]\n",
        "filtro4"
      ],
      "metadata": {
        "id": "SdUJ-xI4g-ba"
      },
      "execution_count": null,
      "outputs": []
    },
    {
      "cell_type": "code",
      "source": [
        "filtro5 = df.head(8)\n",
        "filtro5"
      ],
      "metadata": {
        "id": "haaORTc4iWqH"
      },
      "execution_count": null,
      "outputs": []
    },
    {
      "cell_type": "markdown",
      "source": [
        "**FILTROS BASICOS PARA VARIABLES CUANTITATIVASS**"
      ],
      "metadata": {
        "id": "W4_s92Wziogt"
      }
    },
    {
      "cell_type": "code",
      "source": [
        "filtro6 = df[df[\"population\"] > 103000]\n",
        "filtro6"
      ],
      "metadata": {
        "id": "upmWciZOiuaY"
      },
      "execution_count": null,
      "outputs": []
    },
    {
      "cell_type": "markdown",
      "source": [
        "**FILTROS BASICOS DE CONECTORES LOGICOS**"
      ],
      "metadata": {
        "id": "NQ_fWaJFi9Ur"
      }
    },
    {
      "cell_type": "code",
      "source": [
        "#Filtro Y\n",
        "filtro7 = df[(df[\"region\"] == \"Caribbean\") & (df[\"population\"] > 103000)]\n",
        "filtro7"
      ],
      "metadata": {
        "id": "doWrRDNNjA4Y"
      },
      "execution_count": null,
      "outputs": []
    },
    {
      "cell_type": "code",
      "source": [
        "#Filtro O\n",
        "filtro8 =df[(df[\"region\"] == \"Caribbean\") | (df[\"population\"] > 103000)]\n",
        "filtro8"
      ],
      "metadata": {
        "id": "U1rFdlVrjYb4"
      },
      "execution_count": null,
      "outputs": []
    },
    {
      "cell_type": "code",
      "source": [
        "#Filtro not\n",
        "filtro9 = df[~(df[\"region\"] == \"Caribbean\") & ~(df[\"population\"] > 103000)]\n",
        "filtro9"
      ],
      "metadata": {
        "id": "33vZxtqcjndi"
      },
      "execution_count": null,
      "outputs": []
    },
    {
      "cell_type": "code",
      "source": [
        "filtro9.to_csv(\"NovenoFiltro.csv\")"
      ],
      "metadata": {
        "id": "ZtnTBcbuj4c7"
      },
      "execution_count": null,
      "outputs": []
    },
    {
      "cell_type": "code",
      "source": [
        "from google.colab import files\n",
        "\n",
        "files.download(\"NovenoFiltro.csv\")"
      ],
      "metadata": {
        "colab": {
          "base_uri": "https://localhost:8080/",
          "height": 17
        },
        "id": "daCZ5MX7kEmg",
        "outputId": "4f8de2fd-7cfc-4c49-f0bf-901d48946a43"
      },
      "execution_count": null,
      "outputs": [
        {
          "output_type": "display_data",
          "data": {
            "text/plain": [
              "<IPython.core.display.Javascript object>"
            ],
            "application/javascript": [
              "\n",
              "    async function download(id, filename, size) {\n",
              "      if (!google.colab.kernel.accessAllowed) {\n",
              "        return;\n",
              "      }\n",
              "      const div = document.createElement('div');\n",
              "      const label = document.createElement('label');\n",
              "      label.textContent = `Downloading \"${filename}\": `;\n",
              "      div.appendChild(label);\n",
              "      const progress = document.createElement('progress');\n",
              "      progress.max = size;\n",
              "      div.appendChild(progress);\n",
              "      document.body.appendChild(div);\n",
              "\n",
              "      const buffers = [];\n",
              "      let downloaded = 0;\n",
              "\n",
              "      const channel = await google.colab.kernel.comms.open(id);\n",
              "      // Send a message to notify the kernel that we're ready.\n",
              "      channel.send({})\n",
              "\n",
              "      for await (const message of channel.messages) {\n",
              "        // Send a message to notify the kernel that we're ready.\n",
              "        channel.send({})\n",
              "        if (message.buffers) {\n",
              "          for (const buffer of message.buffers) {\n",
              "            buffers.push(buffer);\n",
              "            downloaded += buffer.byteLength;\n",
              "            progress.value = downloaded;\n",
              "          }\n",
              "        }\n",
              "      }\n",
              "      const blob = new Blob(buffers, {type: 'application/binary'});\n",
              "      const a = document.createElement('a');\n",
              "      a.href = window.URL.createObjectURL(blob);\n",
              "      a.download = filename;\n",
              "      div.appendChild(a);\n",
              "      a.click();\n",
              "      div.remove();\n",
              "    }\n",
              "  "
            ]
          },
          "metadata": {}
        },
        {
          "output_type": "display_data",
          "data": {
            "text/plain": [
              "<IPython.core.display.Javascript object>"
            ],
            "application/javascript": [
              "download(\"download_9723b6b5-753d-49c6-9c54-037ca1a8d6d1\", \"NovenoFiltro.csv\", 4910)"
            ]
          },
          "metadata": {}
        }
      ]
    }
  ]
}